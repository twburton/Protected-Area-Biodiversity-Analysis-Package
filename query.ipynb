{
 "cells": [
  {
   "cell_type": "code",
   "execution_count": null,
   "metadata": {
    "scrolled": true
   },
   "outputs": [],
   "source": [
    "import urllib.request\n",
    "import urllib.parse\n",
    "import json\n",
    "import pandas as pd\n",
    "import numpy as np\n",
    "import matplotlib.pyplot as plt\n",
    "import plotly.plotly as py\n",
    "import plotly.figure_factory as ff\n",
    "from plotly.graph_objs import *\n",
    "%matplotlib notebook\n",
    "import matplotlib.pyplot as plt\n",
    "import csv\n",
    "\n",
    "\n",
    "\n",
    "#plt.plot([0, 1, 2, 2]);\n",
    "grsm1 = 'https://bison.usgs.gov/solr/occurrences/select/?q=decimalLatitude:[35.38%20TO%2035.87]%20AND%20decimalLongitude:[-84.058%20TO%20-82.96]&wt=json&rows=50&facet=true&facet.limit=-1&facet.mincount=1&facet.pivot=kingdom,scientificName&&indent=true'\n",
    "grsm2 = 'https://bison.usgs.gov/solr/occurrences/select/?q=decimalLatitude:[35.38%20TO%2035.87]%20AND%20decimalLongitude:[-84.058%20TO%20-82.96]&wt=json&rows=50&facet=true&facet.limit=-1&facet.mincount=1&facet.pivot=scientificName&&indent=true'\n",
    "\n",
    "yellowstone1 = 'https://bison.usgs.gov/solr/occurrences/select/?q=decimalLatitude:[44.1325%20TO%2045.1085]%20AND%20decimalLongitude:[-111.1568%20TO%20-109.8242]&wt=json&rows=50&facet=true&facet.limit=-1&facet.mincount=1&facet.pivot=kingdom,scientificName&&indent=true'\n",
    "yellowstone2 = 'https://bison.usgs.gov/solr/occurrences/select/?q=decimalLatitude:[44.1325%20TO%2045.1085]%20AND%20decimalLongitude:[-111.1568%20TO%20-109.8242]&wt=json&rows=50&facet=true&facet.limit=-1&facet.mincount=1&facet.pivot=scientificName&&indent=true'\n",
    "\n",
    "url = 'https://data.usgs.gov/solr/occurrences/select/?q={!bbox%20pt=66.62313748,-159.341958%20sfield=geo%20d=1}&rows=100&wt=json&facet=true&facet.limit=-1&facet.mincount=1&facet.pivot=kingdom,scientificName&&indent=true'\n",
    "f = urllib.request.urlopen(yellowstone1)\n",
    "jsonResults=json.loads(f.read().decode('utf-8'))\n",
    "\n",
    "facets=jsonResults['facet_counts']['facet_pivot']['kingdom,scientificName']\n",
    "#facets=jsonResults['facet_counts']['facet_pivot']['scientificName']\n",
    "a=0\n",
    "b=[]\n",
    "c=[]\n",
    "for index,item in enumerate(facets):\n",
    "    a+=1\n",
    "    print(\"Kingdom:\", item[\"value\"], \"Count:\",item[\"count\"])\n",
    "    print(\"----\")\n",
    "    if item[\"value\"]!=\"\":\n",
    "        b.append(item[\"value\"])\n",
    "        c.append(item[\"count\"])\n",
    "    else:\n",
    "        b.append(\" \")\n",
    "        c.append(item[\"count\"])\n",
    "    \n",
    "\n",
    "f = urllib.request.urlopen(yellowstone2)\n",
    "jsonResults=json.loads(f.read().decode('utf-8'))\n",
    "facets=jsonResults['facet_counts']['facet_pivot']['scientificName']\n",
    "#facets = list(set(facets))\n",
    "print(\"----Unique Species Count----\")\n",
    "for index,item in enumerate(facets):\n",
    "    print(\"Species:\", item[\"value\"], \"Count:\",item[\"count\"])\n",
    "    print(\"----\")\n",
    "    \n",
    "\n",
    "print(index)\n",
    "if index==5:\n",
    "    s = pd.Series([c[0],c[1],c[2],c[3],c[4],c[5]], index=[b[0],b[1],b[2],b[3],b[4],b[5]])\n",
    "if index==4:\n",
    "    s = pd.Series([c[0],c[1],c[2],c[3],c[4]], index=[b[0],b[1],b[2],b[3],b[4]])\n",
    "if index==3:\n",
    "    s = pd.Series([c[0],c[1],c[2],c[3]], index=[b[0],b[1],b[2],b[3]])\n",
    "if index==2:\n",
    "    s = pd.Series([c[0],c[1],c[2]], index=[b[0],b[1],b[2]])\n",
    "if index==1:\n",
    "    s = pd.Series([c[0],c[1]], index=[b[0],b[1]])\n",
    "if index==0:\n",
    "    s = pd.Series([c[0]], index=[b[0]])\n",
    "    \n",
    "s.plot.bar(figsize=(10,10))\n",
    "plt.xlabel('Count')\n",
    "plt.ylabel('Kingdom')\n",
    "plt.title(\"Species\");"
   ]
  },
  {
   "cell_type": "code",
   "execution_count": null,
   "metadata": {},
   "outputs": [],
   "source": []
  },
  {
   "cell_type": "code",
   "execution_count": null,
   "metadata": {},
   "outputs": [],
   "source": []
  },
  {
   "cell_type": "code",
   "execution_count": null,
   "metadata": {},
   "outputs": [],
   "source": []
  }
 ],
 "metadata": {
  "kernelspec": {
   "display_name": "Python 3",
   "language": "python",
   "name": "python3"
  },
  "language_info": {
   "codemirror_mode": {
    "name": "ipython",
    "version": 3
   },
   "file_extension": ".py",
   "mimetype": "text/x-python",
   "name": "python",
   "nbconvert_exporter": "python",
   "pygments_lexer": "ipython3",
   "version": "3.6.4"
  }
 },
 "nbformat": 4,
 "nbformat_minor": 2
}

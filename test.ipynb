import urllib.request
import urllib.parse
import json
import pandas as pd
import numpy as np
import matplotlib.pyplot as plt
import plotly.plotly as py
import plotly.figure_factory as ff
from plotly.graph_objs import *
%matplotlib notebook
%matplotlib inline
import matplotlib.pyplot as plt
import csv
import uuid
from IPython.display import display_javascript, display_html, display
import json

bird=0
reptile=0
amphibian=0
mammal=0
insect=0
arthropods=0
vascularplants=0
freshwaterinvert=0

class RenderJSON(object):
    def __init__(self, json_data):
        if isinstance(json_data, dict):
            self.json_str = json.dumps(json_data)
        else:
            self.json_str = json_data
        self.uuid = str(uuid.uuid4())

    def _ipython_display_(self):
        display_html('<div id="{}" style="height: 600px; width:100%;"></div>'.format(self.uuid), raw=True)
        display_javascript("""
        require(["https://rawgit.com/caldwell/renderjson/master/renderjson.js"], function() {
        document.getElementById('%s').appendChild(renderjson(%s))
        });
        """ % (self.uuid, self.json_str), raw=True)

inputvar=input("Type 1 for Great Smokey Mountains, 2 for Yellowstone, 3 for Yosemite, 4 for Zion")
#plt.plot([0, 1, 2, 2]);
#https://bison.usgs.gov/solr/occurrences/select/?q=decimalLatitude:[-84.01390189799997 TO  35.425862222000035] AND decimalLongitude:[ -83.04248553799994 TO  35.84240904300003]&rows=126000&wt=json
grsm1 = 'https://bison.usgs.gov/solr/occurrences/select/?q=decimalLatitude:[35.38%20TO%2035.87]%20AND%20decimalLongitude:[-84.058%20TO%20-82.96]&wt=json&facet=true&facet.limit=-1&facet.mincount=1&facet.pivot=kingdom,scientificName&&indent=true'
grsm2= 'https://bison.usgs.gov/solr/occurrences/select/?q=decimalLatitude:[35.38%20TO%2035.87]%20AND%20decimalLongitude:[-84.058%20TO%20-82.96]&wt=json&facet=true&facet.limit=-1&facet.mincount=1&facet.pivot=scientificName,hierarchy_homonym_string&fq=basisOfRecord:observation&indent=true&rows=0'

yellowstone1 = 'https://bison.usgs.gov/solr/occurrences/select/?q=decimalLatitude:[44.1325%20TO%2045.1085]%20AND%20decimalLongitude:[-111.1568%20TO%20-109.8242]&wt=json&facet=true&facet.limit=-1&facet.mincount=1&facet.pivot=kingdom,scientificName&&indent=true'
yellowstone2 = 'https://bison.usgs.gov/solr/occurrences/select/?q=decimalLatitude:[44.1325%20TO%2045.1085]%20AND%20decimalLongitude:[-111.1568%20TO%20-109.8242]&wt=json&facet=true&facet.limit=-1&facet.mincount=1&facet.pivot=scientificName,hierarchy_homonym_string&fq=basisOfRecord:observation&indent=true&rows=0'

yose1 = 'https://bison.usgs.gov/solr/occurrences/select/?q=decimalLatitude:[37.494700257593124%20TO%2038.18514512589431]%20AND%20decimalLongitude:[%20-119.88641742173921%20TO%20-119.19639770576299]&wt=json&facet=true&facet.limit=-1&facet.mincount=1&facet.pivot=kingdom,scientificName&&indent=true'
yose2= 'https://bison.usgs.gov/solr/occurrences/select/?q=decimalLatitude:[37.494700257593124%20TO%2038.18514512589431]%20AND%20decimalLongitude:[%20-119.88641742173921%20TO%20-119.19639770576299]&wt=json&facet=true&facet.limit=-1&facet.mincount=1&facet.pivot=scientificName,hierarchy_homonym_string&fq=basisOfRecord:observation&indent=true&rows=0'

zion1 = 'https://bison.usgs.gov/solr/occurrences/select/?q=decimalLatitude:[37.14134970000002%20TO%2037.5042845]%20AND%20decimalLongitude:[-113.22828553752227%20TO%20-112.8631475]&wt=json&facet=true&facet.limit=-1&facet.mincount=1&facet.pivot=kingdom,scientificName&&indent=true'
zion2= 'https://bison.usgs.gov/solr/occurrences/select/?q=decimalLatitude:[37.14134970000002%20TO%2037.5042845]%20AND%20decimalLongitude:[-113.22828553752227%20TO%20-112.8631475]&wt=json&facet=true&facet.limit=-1&facet.mincount=1&facet.pivot=scientificName,hierarchy_homonym_string&fq=basisOfRecord:observation&indent=true&rows=0'


if (inputvar=='1'):
    f2 = urllib.request.urlopen(grsm2)
elif (inputvar=='2'):
    f2 = urllib.request.urlopen(yellowstone2)
elif (inputvar=='3'):
    f2 = urllib.request.urlopen(yose2)
elif (inputvar=='4'):
    f2 = urllib.request.urlopen(zion2)
jsonResults2=json.loads(f2.read().decode('utf-8'))
facets2=jsonResults2['facet_counts']['facet_pivot']['scientificName,hierarchy_homonym_string']
for index,item in enumerate(facets2):
    try:
        hierarchy=item["pivot"]
        
        print("SciName:", item["value"], "Count:",item["count"])
        for hindex,hitem in enumerate(hierarchy):
            if "-179913-" in hitem["value"]:
                #print("---Hierarchy: Mammal---")
                mammal+=1
            elif "-173747-" in hitem["value"]:
                #print("---Hierarchy: Reptile---")
                reptile+=1
            elif "-173420-" in hitem["value"]:
                #print("---Hierarchy: Amphibian---")
                amphibian+=1
            elif "-174371-" in hitem["value"]:
                #print("---Hierarchy: Bird---")
                bird+=1
            elif "-99208-" in hitem["value"]:
                #print("---Hierarchy: insect---")
                insect+=1
            elif "-82696-" in hitem["value"]:
                #print("---Hierarchy: Arthropods
                Arthropods+=1
            elif "-846496-" in hitem["value"]:
                #print("---Hierarchy: vascularplants
                vascularplants+=1
            elif "-46861-" in hitem["value"]or"-64357-" in hitem["value"]or"-82696-" in hitem["value"]or"-69458-" in hitem["value"]or"-48738-" in hitem["value"]or"-53963-" in hitem["value"] :
                #print("---Hierarchy: freshwaterinvert
                freshwaterinvert+=1
                #Porifera [46861]     
                # Annelida [64357] 
                # Arthropoda [82696]
                #Mollusca [69458] 
                # Cnidaria [48738]
                # Platyhelminthes [53963] 
    
    
            """
            if "-202423-" in hitem["value"]:
                #print("---Hierarchy: Mammal---")
                print("---Hierarchy:",hitem["value"])
            elif "-202422-" in hitem["value"]:
                #print("---Hierarchy: Plant---")
                print("---Hierarchy:",hitem["value"])
            elif "-630578-" in hitem["value"]:
                #print("---Hierarchy: Chromista---")
                print("---Hierarchy:",hitem["value"])
            elif "-935939-" in hitem["value"]:
                #print("---Hierarchy: Crenarchaeota---")
                print("---Hierarchy:",hitem["value"])
            elif "-50-" in hitem["value"]:
                #print("---Hierarchy: Bacteria---")
                print("---Hierarchy:",hitem["value"])
            elif "-555705-" in hitem["value"]:
                #print("---Hierarchy: Fungi---")
                print("---Hierarchy:",hitem["value"])
            else:
                print("unknown")
            """
            
            #print("---Hierarchy:",hitem["value"])
    except:
        print("undefined")

#179913 mammalia
#173747 reptilia
#173420 amphibia
#174371 bird
#-202422-954898 plant
#-630578-969910- Chromista
#Crenarchaeota -935939-951422-
#Bacteria -50-956096-956108-
#Fungi -555705-936287-
#facets = list(set(facets))
#print(jsonResults)
#hierarchy_homonym_string

if (inputvar=='1'):
    f = urllib.request.urlopen(grsm1)
elif (inputvar=='2'):
    f = urllib.request.urlopen(yellowstone1)
elif (inputvar=='3'):
    f = urllib.request.urlopen(yose1)
elif (inputvar=='4'):
    f = urllib.request.urlopen(zion1)
jsonResults=json.loads(f.read().decode('utf-8'))

facets=jsonResults['facet_counts']['facet_pivot']['kingdom,scientificName']

#facets=jsonResults['facet_counts']['facet_pivot']['scientificName']
b=[]
c=[]
print("==================================")
for index2,item in enumerate(facets):
    print(index)
    print("Kingdom:", item["value"], "Observation Count:",item["count"])
    print("----")
    if item["value"]!="":
        b.append(item["value"])
        c.append(item["count"])
    else:
        b.append(" ")
        c.append(item["count"])
    
#print(json.dumps(jsonResults, indent=2))
#print(index)
if index2==7:
    s = pd.Series([c[0],c[1],c[2],c[3],c[4],c[5],c[6],c[7]], index=[b[0],b[1],b[2],b[3],b[4],b[5],b[6],b[7]])
    print("7")
elif index2==6:
    s = pd.Series([c[0],c[1],c[2],c[3],c[4],c[5],c[6]], index=[b[0],b[1],b[2],b[3],b[4],b[5],b[6]])
    print("6")
elif index2==5:
    s = pd.Series([c[0],c[1],c[2],c[3],c[4],c[5]], index=[b[0],b[1],b[2],b[3],b[4],b[5]])
    print("5")
elif index2==4:
    s = pd.Series([c[0],c[1],c[2],c[3],c[4]], index=[b[0],b[1],b[2],b[3],b[4]])
elif index2==3:
    s = pd.Series([c[0],c[1],c[2],c[3]], index=[b[0],b[1],b[2],b[3]])
elif index2==2:
    s = pd.Series([c[0],c[1],c[2]], index=[b[0],b[1],b[2]])
elif index2==1:
    s = pd.Series([c[0],c[1]], index=[b[0],b[1]])
elif index2==0:
    s = pd.Series([c[0]], index=[b[0]])
else:
    print("index not 0-7")
print("==================================")
print("Unique Species of Birds:"+str(bird))
print("Unique Species of Reptiles:"+str(reptile))
print("Unique Species of Mammals:"+str(mammal))
print("Unique Species of Amphibians:"+str(amphibian))
print("Unique Species of Insects:"+str(insect))
print("Unique Species of Arthropods:"+str(arthropods))
print("Unique Species of vascularplants:"+str(vascularplants))
print("Unique Species of freshwaterinvert:"+str(freshwaterinvert))

print("index:")
print(index2)
s.plot.bar(figsize=(10,10))
plt.xlabel('Count')
plt.ylabel('Kingdom')
plt.title("Species")
plt.show()